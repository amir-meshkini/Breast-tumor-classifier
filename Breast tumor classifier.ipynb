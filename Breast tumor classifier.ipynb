{
 "cells": [
  {
   "cell_type": "markdown",
   "id": "4b2c44df-9856-42c3-b2fb-ab2aa5b805e7",
   "metadata": {},
   "source": [
    "# Breast tumor classifier model building "
   ]
  },
  {
   "cell_type": "code",
   "execution_count": 2,
   "id": "05f215cc-baad-4161-8ee8-2483b1562f45",
   "metadata": {},
   "outputs": [],
   "source": [
    "import numpy as np \n",
    "import pandas as pd \n",
    "import matplotlib.pyplot as plt "
   ]
  },
  {
   "cell_type": "markdown",
   "id": "7198804d-4c98-4e2d-9bba-d8bcd963a052",
   "metadata": {},
   "source": [
    "## Preprocessing "
   ]
  },
  {
   "cell_type": "code",
   "execution_count": 4,
   "id": "63e35adc-0111-4ec5-ada2-d72e7a1af6ec",
   "metadata": {},
   "outputs": [
    {
     "data": {
      "text/html": [
       "<div>\n",
       "<style scoped>\n",
       "    .dataframe tbody tr th:only-of-type {\n",
       "        vertical-align: middle;\n",
       "    }\n",
       "\n",
       "    .dataframe tbody tr th {\n",
       "        vertical-align: top;\n",
       "    }\n",
       "\n",
       "    .dataframe thead th {\n",
       "        text-align: right;\n",
       "    }\n",
       "</style>\n",
       "<table border=\"1\" class=\"dataframe\">\n",
       "  <thead>\n",
       "    <tr style=\"text-align: right;\">\n",
       "      <th></th>\n",
       "      <th>id</th>\n",
       "      <th>diagnosis</th>\n",
       "      <th>radius_mean</th>\n",
       "      <th>texture_mean</th>\n",
       "      <th>perimeter_mean</th>\n",
       "      <th>area_mean</th>\n",
       "      <th>smoothness_mean</th>\n",
       "      <th>compactness_mean</th>\n",
       "      <th>concavity_mean</th>\n",
       "      <th>concave points_mean</th>\n",
       "      <th>...</th>\n",
       "      <th>texture_worst</th>\n",
       "      <th>perimeter_worst</th>\n",
       "      <th>area_worst</th>\n",
       "      <th>smoothness_worst</th>\n",
       "      <th>compactness_worst</th>\n",
       "      <th>concavity_worst</th>\n",
       "      <th>concave points_worst</th>\n",
       "      <th>symmetry_worst</th>\n",
       "      <th>fractal_dimension_worst</th>\n",
       "      <th>Unnamed: 32</th>\n",
       "    </tr>\n",
       "  </thead>\n",
       "  <tbody>\n",
       "    <tr>\n",
       "      <th>0</th>\n",
       "      <td>842302</td>\n",
       "      <td>M</td>\n",
       "      <td>17.99</td>\n",
       "      <td>10.38</td>\n",
       "      <td>122.80</td>\n",
       "      <td>1001.0</td>\n",
       "      <td>0.11840</td>\n",
       "      <td>0.27760</td>\n",
       "      <td>0.3001</td>\n",
       "      <td>0.14710</td>\n",
       "      <td>...</td>\n",
       "      <td>17.33</td>\n",
       "      <td>184.60</td>\n",
       "      <td>2019.0</td>\n",
       "      <td>0.1622</td>\n",
       "      <td>0.6656</td>\n",
       "      <td>0.7119</td>\n",
       "      <td>0.2654</td>\n",
       "      <td>0.4601</td>\n",
       "      <td>0.11890</td>\n",
       "      <td>NaN</td>\n",
       "    </tr>\n",
       "    <tr>\n",
       "      <th>1</th>\n",
       "      <td>842517</td>\n",
       "      <td>M</td>\n",
       "      <td>20.57</td>\n",
       "      <td>17.77</td>\n",
       "      <td>132.90</td>\n",
       "      <td>1326.0</td>\n",
       "      <td>0.08474</td>\n",
       "      <td>0.07864</td>\n",
       "      <td>0.0869</td>\n",
       "      <td>0.07017</td>\n",
       "      <td>...</td>\n",
       "      <td>23.41</td>\n",
       "      <td>158.80</td>\n",
       "      <td>1956.0</td>\n",
       "      <td>0.1238</td>\n",
       "      <td>0.1866</td>\n",
       "      <td>0.2416</td>\n",
       "      <td>0.1860</td>\n",
       "      <td>0.2750</td>\n",
       "      <td>0.08902</td>\n",
       "      <td>NaN</td>\n",
       "    </tr>\n",
       "    <tr>\n",
       "      <th>2</th>\n",
       "      <td>84300903</td>\n",
       "      <td>M</td>\n",
       "      <td>19.69</td>\n",
       "      <td>21.25</td>\n",
       "      <td>130.00</td>\n",
       "      <td>1203.0</td>\n",
       "      <td>0.10960</td>\n",
       "      <td>0.15990</td>\n",
       "      <td>0.1974</td>\n",
       "      <td>0.12790</td>\n",
       "      <td>...</td>\n",
       "      <td>25.53</td>\n",
       "      <td>152.50</td>\n",
       "      <td>1709.0</td>\n",
       "      <td>0.1444</td>\n",
       "      <td>0.4245</td>\n",
       "      <td>0.4504</td>\n",
       "      <td>0.2430</td>\n",
       "      <td>0.3613</td>\n",
       "      <td>0.08758</td>\n",
       "      <td>NaN</td>\n",
       "    </tr>\n",
       "    <tr>\n",
       "      <th>3</th>\n",
       "      <td>84348301</td>\n",
       "      <td>M</td>\n",
       "      <td>11.42</td>\n",
       "      <td>20.38</td>\n",
       "      <td>77.58</td>\n",
       "      <td>386.1</td>\n",
       "      <td>0.14250</td>\n",
       "      <td>0.28390</td>\n",
       "      <td>0.2414</td>\n",
       "      <td>0.10520</td>\n",
       "      <td>...</td>\n",
       "      <td>26.50</td>\n",
       "      <td>98.87</td>\n",
       "      <td>567.7</td>\n",
       "      <td>0.2098</td>\n",
       "      <td>0.8663</td>\n",
       "      <td>0.6869</td>\n",
       "      <td>0.2575</td>\n",
       "      <td>0.6638</td>\n",
       "      <td>0.17300</td>\n",
       "      <td>NaN</td>\n",
       "    </tr>\n",
       "    <tr>\n",
       "      <th>4</th>\n",
       "      <td>84358402</td>\n",
       "      <td>M</td>\n",
       "      <td>20.29</td>\n",
       "      <td>14.34</td>\n",
       "      <td>135.10</td>\n",
       "      <td>1297.0</td>\n",
       "      <td>0.10030</td>\n",
       "      <td>0.13280</td>\n",
       "      <td>0.1980</td>\n",
       "      <td>0.10430</td>\n",
       "      <td>...</td>\n",
       "      <td>16.67</td>\n",
       "      <td>152.20</td>\n",
       "      <td>1575.0</td>\n",
       "      <td>0.1374</td>\n",
       "      <td>0.2050</td>\n",
       "      <td>0.4000</td>\n",
       "      <td>0.1625</td>\n",
       "      <td>0.2364</td>\n",
       "      <td>0.07678</td>\n",
       "      <td>NaN</td>\n",
       "    </tr>\n",
       "  </tbody>\n",
       "</table>\n",
       "<p>5 rows × 33 columns</p>\n",
       "</div>"
      ],
      "text/plain": [
       "         id diagnosis  radius_mean  texture_mean  perimeter_mean  area_mean  \\\n",
       "0    842302         M        17.99         10.38          122.80     1001.0   \n",
       "1    842517         M        20.57         17.77          132.90     1326.0   \n",
       "2  84300903         M        19.69         21.25          130.00     1203.0   \n",
       "3  84348301         M        11.42         20.38           77.58      386.1   \n",
       "4  84358402         M        20.29         14.34          135.10     1297.0   \n",
       "\n",
       "   smoothness_mean  compactness_mean  concavity_mean  concave points_mean  \\\n",
       "0          0.11840           0.27760          0.3001              0.14710   \n",
       "1          0.08474           0.07864          0.0869              0.07017   \n",
       "2          0.10960           0.15990          0.1974              0.12790   \n",
       "3          0.14250           0.28390          0.2414              0.10520   \n",
       "4          0.10030           0.13280          0.1980              0.10430   \n",
       "\n",
       "   ...  texture_worst  perimeter_worst  area_worst  smoothness_worst  \\\n",
       "0  ...          17.33           184.60      2019.0            0.1622   \n",
       "1  ...          23.41           158.80      1956.0            0.1238   \n",
       "2  ...          25.53           152.50      1709.0            0.1444   \n",
       "3  ...          26.50            98.87       567.7            0.2098   \n",
       "4  ...          16.67           152.20      1575.0            0.1374   \n",
       "\n",
       "   compactness_worst  concavity_worst  concave points_worst  symmetry_worst  \\\n",
       "0             0.6656           0.7119                0.2654          0.4601   \n",
       "1             0.1866           0.2416                0.1860          0.2750   \n",
       "2             0.4245           0.4504                0.2430          0.3613   \n",
       "3             0.8663           0.6869                0.2575          0.6638   \n",
       "4             0.2050           0.4000                0.1625          0.2364   \n",
       "\n",
       "   fractal_dimension_worst  Unnamed: 32  \n",
       "0                  0.11890          NaN  \n",
       "1                  0.08902          NaN  \n",
       "2                  0.08758          NaN  \n",
       "3                  0.17300          NaN  \n",
       "4                  0.07678          NaN  \n",
       "\n",
       "[5 rows x 33 columns]"
      ]
     },
     "execution_count": 4,
     "metadata": {},
     "output_type": "execute_result"
    }
   ],
   "source": [
    "# importing and getting a scence of the data \n",
    "tumors_data = pd.read_csv('breast_cancer.csv') \n",
    "tumors_data.head() "
   ]
  },
  {
   "cell_type": "code",
   "execution_count": 5,
   "id": "80f8261b-eb5e-4f3f-b18a-166ce156ebeb",
   "metadata": {},
   "outputs": [
    {
     "name": "stdout",
     "output_type": "stream",
     "text": [
      "<class 'pandas.core.frame.DataFrame'>\n",
      "RangeIndex: 569 entries, 0 to 568\n",
      "Data columns (total 33 columns):\n",
      " #   Column                   Non-Null Count  Dtype  \n",
      "---  ------                   --------------  -----  \n",
      " 0   id                       569 non-null    int64  \n",
      " 1   diagnosis                569 non-null    object \n",
      " 2   radius_mean              569 non-null    float64\n",
      " 3   texture_mean             569 non-null    float64\n",
      " 4   perimeter_mean           569 non-null    float64\n",
      " 5   area_mean                569 non-null    float64\n",
      " 6   smoothness_mean          569 non-null    float64\n",
      " 7   compactness_mean         569 non-null    float64\n",
      " 8   concavity_mean           569 non-null    float64\n",
      " 9   concave points_mean      569 non-null    float64\n",
      " 10  symmetry_mean            569 non-null    float64\n",
      " 11  fractal_dimension_mean   569 non-null    float64\n",
      " 12  radius_se                569 non-null    float64\n",
      " 13  texture_se               569 non-null    float64\n",
      " 14  perimeter_se             569 non-null    float64\n",
      " 15  area_se                  569 non-null    float64\n",
      " 16  smoothness_se            569 non-null    float64\n",
      " 17  compactness_se           569 non-null    float64\n",
      " 18  concavity_se             569 non-null    float64\n",
      " 19  concave points_se        569 non-null    float64\n",
      " 20  symmetry_se              569 non-null    float64\n",
      " 21  fractal_dimension_se     569 non-null    float64\n",
      " 22  radius_worst             569 non-null    float64\n",
      " 23  texture_worst            569 non-null    float64\n",
      " 24  perimeter_worst          569 non-null    float64\n",
      " 25  area_worst               569 non-null    float64\n",
      " 26  smoothness_worst         569 non-null    float64\n",
      " 27  compactness_worst        569 non-null    float64\n",
      " 28  concavity_worst          569 non-null    float64\n",
      " 29  concave points_worst     569 non-null    float64\n",
      " 30  symmetry_worst           569 non-null    float64\n",
      " 31  fractal_dimension_worst  569 non-null    float64\n",
      " 32  Unnamed: 32              0 non-null      float64\n",
      "dtypes: float64(31), int64(1), object(1)\n",
      "memory usage: 146.8+ KB\n"
     ]
    }
   ],
   "source": [
    "# more detail on each column \n",
    "tumors_data.info()"
   ]
  },
  {
   "cell_type": "markdown",
   "id": "12d308d2-9fb8-4220-91ed-57dc646f1772",
   "metadata": {},
   "source": [
    "No null values to deal with! All we have to do is to one-hot encode the diagnosis column. "
   ]
  },
  {
   "cell_type": "code",
   "execution_count": 7,
   "id": "f7882f38-4cc1-48c6-9504-b8700c3362d5",
   "metadata": {},
   "outputs": [
    {
     "name": "stdout",
     "output_type": "stream",
     "text": [
      "<class 'pandas.core.frame.DataFrame'>\n",
      "RangeIndex: 569 entries, 0 to 568\n",
      "Data columns (total 33 columns):\n",
      " #   Column                   Non-Null Count  Dtype  \n",
      "---  ------                   --------------  -----  \n",
      " 0   id                       569 non-null    int64  \n",
      " 1   radius_mean              569 non-null    float64\n",
      " 2   texture_mean             569 non-null    float64\n",
      " 3   perimeter_mean           569 non-null    float64\n",
      " 4   area_mean                569 non-null    float64\n",
      " 5   smoothness_mean          569 non-null    float64\n",
      " 6   compactness_mean         569 non-null    float64\n",
      " 7   concavity_mean           569 non-null    float64\n",
      " 8   concave points_mean      569 non-null    float64\n",
      " 9   symmetry_mean            569 non-null    float64\n",
      " 10  fractal_dimension_mean   569 non-null    float64\n",
      " 11  radius_se                569 non-null    float64\n",
      " 12  texture_se               569 non-null    float64\n",
      " 13  perimeter_se             569 non-null    float64\n",
      " 14  area_se                  569 non-null    float64\n",
      " 15  smoothness_se            569 non-null    float64\n",
      " 16  compactness_se           569 non-null    float64\n",
      " 17  concavity_se             569 non-null    float64\n",
      " 18  concave points_se        569 non-null    float64\n",
      " 19  symmetry_se              569 non-null    float64\n",
      " 20  fractal_dimension_se     569 non-null    float64\n",
      " 21  radius_worst             569 non-null    float64\n",
      " 22  texture_worst            569 non-null    float64\n",
      " 23  perimeter_worst          569 non-null    float64\n",
      " 24  area_worst               569 non-null    float64\n",
      " 25  smoothness_worst         569 non-null    float64\n",
      " 26  compactness_worst        569 non-null    float64\n",
      " 27  concavity_worst          569 non-null    float64\n",
      " 28  concave points_worst     569 non-null    float64\n",
      " 29  symmetry_worst           569 non-null    float64\n",
      " 30  fractal_dimension_worst  569 non-null    float64\n",
      " 31  Unnamed: 32              0 non-null      float64\n",
      " 32  diagnosis_M              569 non-null    int64  \n",
      "dtypes: float64(31), int64(2)\n",
      "memory usage: 146.8 KB\n"
     ]
    }
   ],
   "source": [
    "# encodein \n",
    "tumors_data = pd.get_dummies(data= tumors_data, columns=['diagnosis'], drop_first=True, dtype=int) \n",
    "tumors_data.info()"
   ]
  },
  {
   "cell_type": "code",
   "execution_count": 8,
   "id": "35820ac0-89cf-4740-9af9-099f96067da2",
   "metadata": {},
   "outputs": [
    {
     "data": {
      "text/plain": [
       "diagnosis_M\n",
       "0    62.741652\n",
       "1    37.258348\n",
       "Name: count, dtype: float64"
      ]
     },
     "execution_count": 8,
     "metadata": {},
     "output_type": "execute_result"
    }
   ],
   "source": [
    "tumors_data['diagnosis_M'].value_counts() / len(tumors_data) * 100"
   ]
  },
  {
   "cell_type": "markdown",
   "id": "6e206387-0bc5-43e0-b8c5-81067ae5c22b",
   "metadata": {},
   "source": [
    "The benign classe has almost twise as many samples than the other one "
   ]
  },
  {
   "cell_type": "code",
   "execution_count": 10,
   "id": "b50f5494-01d0-4f9a-b961-9856e5976730",
   "metadata": {},
   "outputs": [],
   "source": [
    "# identifying features and labels \n",
    "X = tumors_data.iloc[:, 1:-2] \n",
    "y = tumors_data.iloc[:, -1] "
   ]
  },
  {
   "cell_type": "markdown",
   "id": "7deedb81-b810-4494-89f0-a75858d12f2c",
   "metadata": {},
   "source": [
    "**Note!**  \n",
    "since the data set length is small we wouldn't be using a validation set. "
   ]
  },
  {
   "cell_type": "code",
   "execution_count": 12,
   "id": "dc64d331-bf42-4038-89d3-409a48972f74",
   "metadata": {},
   "outputs": [
    {
     "name": "stdout",
     "output_type": "stream",
     "text": [
      "train:455, test:114\n"
     ]
    }
   ],
   "source": [
    "# Splitting the data \n",
    "from sklearn.model_selection import train_test_split\n",
    "X_train, X_test, y_train, y_test = train_test_split(X, y, test_size=0.2, random_state=42) \n",
    "print(f\"train:{len(X_train)}, test:{len(X_test)}\")"
   ]
  },
  {
   "cell_type": "code",
   "execution_count": 13,
   "id": "a1ed72ee-9b4c-4a22-b591-41f2d6e09c63",
   "metadata": {},
   "outputs": [],
   "source": [
    "# Scaling the data \n",
    "from sklearn.preprocessing import StandardScaler \n",
    "scalor = StandardScaler()\n",
    "X_train = scalor.fit_transform(X_train) \n",
    "X_test = scalor.transform(X_test) "
   ]
  },
  {
   "cell_type": "markdown",
   "id": "f918ca1f-e1a7-417e-942d-61198cc9c719",
   "metadata": {},
   "source": [
    "## Model building "
   ]
  },
  {
   "cell_type": "code",
   "execution_count": 65,
   "id": "e7fe7986-0938-4d35-8f3a-85f349b63a6b",
   "metadata": {},
   "outputs": [],
   "source": [
    "from sklearn.linear_model import LogisticRegression \n",
    "from sklearn.ensemble import RandomForestClassifier \n",
    "from sklearn.ensemble import GradientBoostingClassifier \n",
    "from sklearn.model_selection import GridSearchCV, cross_val_score\n",
    "from sklearn.metrics import confusion_matrix, classification_report, accuracy_score"
   ]
  },
  {
   "cell_type": "markdown",
   "id": "0bbaaa9f-5758-4116-9433-9232ab03cbaf",
   "metadata": {},
   "source": [
    "Here we use grid search to get some insigts about each model's hyperparameter optimize range and a general performance indication using croos validation. We aren't fitting the model to the parameters evaluated by the grid search yet."
   ]
  },
  {
   "cell_type": "code",
   "execution_count": 135,
   "id": "a5552ce0-6fb8-472a-8960-25750b47c7c8",
   "metadata": {
    "scrolled": true
   },
   "outputs": [
    {
     "name": "stdout",
     "output_type": "stream",
     "text": [
      "{'C': 0.1, 'class_weight': None, 'penalty': 'l2', 'solver': 'liblinear'}\n",
      "0.9780219780219781\n"
     ]
    }
   ],
   "source": [
    "logistisc = LogisticRegression()\n",
    "logistis_param_grid = {'C': [0.0001, 0.001, 0.01, 0.1, 1, 10, 100],\n",
    "                      'penalty': ['l1', 'l2'],\n",
    "                       'solver': ['liblinear', 'saga'],\n",
    "                       'class_weight': [None, 'balanced']}\n",
    "\n",
    "\n",
    "logistic_search = GridSearchCV(estimator=logistisc, \n",
    "                               param_grid=logistis_param_grid,  \n",
    "                               cv=5,  \n",
    "                               n_jobs=-1,\n",
    "                               refit=False) \n",
    "\n",
    "logistic_search.fit(X_train, y_train) \n",
    "\n",
    "print(logistic_search.best_params_) \n",
    "print(logistic_search.best_score_)"
   ]
  },
  {
   "cell_type": "raw",
   "id": "bf4d6702-a1fd-4c88-9302-5c00ca96ed73",
   "metadata": {},
   "source": [
    "randomf = RandomForestClassifier(random_state=42) \n",
    "rf_param_grid = {'n_estimators': [200, 300, 400, 500], \n",
    "                'max_depth': [10, 20, None], \n",
    "                 'min_samples_split': [5, 10],\n",
    "                 'max_features': ['sqrt', 'log2'],\n",
    "                } \n",
    "\n",
    "rf_search = GridSearchCV(estimator=randomf, \n",
    "                               param_grid=rf_param_grid,  \n",
    "                               cv=5,  \n",
    "                               n_jobs=-1,\n",
    "                               refit=False) \n",
    "\n",
    "rf_search.fit(X_train, y_train) \n",
    "\n",
    "print(rf_search.best_params_) \n",
    "print(rf_search.best_score_)"
   ]
  },
  {
   "cell_type": "raw",
   "id": "f27ebec8-9b16-48ed-9201-e2edc4956031",
   "metadata": {},
   "source": [
    "{'max_depth': 10, 'max_features': 'sqrt', 'min_samples_split': 5, 'n_estimators': 200}\n",
    "0.9582417582417582"
   ]
  },
  {
   "cell_type": "raw",
   "id": "85a52bd7-8aac-443e-927e-eae99b93b2c7",
   "metadata": {},
   "source": [
    "gboost = GradientBoostingClassifier(random_state=42) \n",
    "gb_param_grid = {'n_estimators': [300, 400, 500],\n",
    "    'learning_rate': [0.01, 0.05, 0.1],\n",
    "    'max_depth': [4, 5],\n",
    "    'subsample': [0.6, 0.8, 1.0],\n",
    "    'min_samples_split': [5, 10],\n",
    "    'max_features': ['sqrt', 'log2']} \n",
    "\n",
    "gb_search = GridSearchCV(estimator=gboost, \n",
    "                        param_grid= gb_param_grid, \n",
    "                        cv=5, \n",
    "                        n_jobs=-1, \n",
    "                        refit=False) \n",
    "\n",
    "gb_search.fit(X_train, y_train) \n",
    "\n",
    "print(gb_search.best_params_) \n",
    "print(gb_search.best_score_)"
   ]
  },
  {
   "cell_type": "raw",
   "id": "83c08bb8-cc37-426c-9852-a124bc24f45e",
   "metadata": {},
   "source": [
    "{'learning_rate': 0.05, 'max_depth': 4, 'max_features': 'sqrt', 'min_samples_split': 5, 'n_estimators': 400, 'subsample': 0.6}\n",
    "0.9736263736263737"
   ]
  },
  {
   "cell_type": "markdown",
   "id": "75f85714-576c-4276-914b-a3233657a1d2",
   "metadata": {},
   "source": [
    "Now that we have a scence of the range of hyper parameters we twist them a little more manually to achieve the heighest score."
   ]
  },
  {
   "cell_type": "code",
   "execution_count": 212,
   "id": "82b9e2dd-8141-4232-9dd0-f977efcb05b2",
   "metadata": {},
   "outputs": [
    {
     "name": "stdout",
     "output_type": "stream",
     "text": [
      "Mean accuracy: 0.9758241758241759\n"
     ]
    }
   ],
   "source": [
    "log = LogisticRegression(C= 0.1, class_weight=None, penalty= 'l2', solver= 'liblinear') \n",
    "scores = cross_val_score(log,\n",
    "                         X_train,\n",
    "                         y_train, \n",
    "                         cv=5,\n",
    "                         scoring='accuracy')\n",
    "\n",
    "\n",
    "print(\"Mean accuracy:\", scores.mean()) "
   ]
  },
  {
   "cell_type": "code",
   "execution_count": 236,
   "id": "18080877-ff28-4435-8e04-41eee161dc1c",
   "metadata": {},
   "outputs": [
    {
     "name": "stdout",
     "output_type": "stream",
     "text": [
      "Mean accuracy: 0.9582417582417582\n"
     ]
    }
   ],
   "source": [
    "rf = RandomForestClassifier(max_depth= 20, max_features= 'sqrt', min_samples_split= 5, n_estimators= 200, random_state=42)\n",
    "\n",
    "scores = cross_val_score(rf,\n",
    "                         X_train,\n",
    "                         y_train, \n",
    "                         cv=5,\n",
    "                         scoring='accuracy',)\n",
    "\n",
    "\n",
    "print(\"Mean accuracy:\", scores.mean())"
   ]
  },
  {
   "cell_type": "code",
   "execution_count": 280,
   "id": "f6b9fbc8-7dd5-4ce3-98a7-592bd3abcabd",
   "metadata": {},
   "outputs": [
    {
     "name": "stdout",
     "output_type": "stream",
     "text": [
      "Mean accuracy: 0.9758241758241759\n"
     ]
    }
   ],
   "source": [
    "gb = GradientBoostingClassifier(learning_rate= 0.05,\n",
    "                                max_depth= 5,\n",
    "                                max_features= 'sqrt',\n",
    "                                min_samples_split= 6,\n",
    "                                n_estimators= 400,\n",
    "                                subsample= 0.6,\n",
    "                               random_state=42)\n",
    "\n",
    "scores = cross_val_score(gb,\n",
    "                         X_train,\n",
    "                         y_train, \n",
    "                         cv=5,\n",
    "                         scoring='accuracy')\n",
    "\n",
    "\n",
    "print(\"Mean accuracy:\", scores.mean())"
   ]
  },
  {
   "cell_type": "markdown",
   "id": "fb1c454b-4d4d-4ed0-abc2-55fbfe346134",
   "metadata": {},
   "source": [
    "Above scores are the best I could get. Seeing the result on the testing data: "
   ]
  },
  {
   "cell_type": "code",
   "execution_count": 284,
   "id": "326b73f7-849a-4840-a3d4-739479fb5e39",
   "metadata": {},
   "outputs": [
    {
     "name": "stdout",
     "output_type": "stream",
     "text": [
      "accuracy: 0.9912280701754386\n",
      "confusion matrix:\n",
      " [[71  0]\n",
      " [ 1 42]]\n"
     ]
    }
   ],
   "source": [
    "logistic_tuned = LogisticRegression(C= 0.1, class_weight=None, penalty= 'l2', solver= 'liblinear') \n",
    "logistic_tuned.fit(X_train, y_train) \n",
    "yhat_log = logistic_tuned.predict(X_test) \n",
    "\n",
    "print(\"accuracy:\", accuracy_score(y_test, yhat_log)) \n",
    "print(\"confusion matrix:\\n\", confusion_matrix(y_test, yhat_log))"
   ]
  },
  {
   "cell_type": "code",
   "execution_count": 286,
   "id": "a9a9196f-19f3-42d5-803a-f5be34d9ff2a",
   "metadata": {},
   "outputs": [
    {
     "name": "stdout",
     "output_type": "stream",
     "text": [
      "accuracy: 0.9649122807017544\n",
      "confusion matrix:\n",
      " [[70  1]\n",
      " [ 3 40]]\n"
     ]
    }
   ],
   "source": [
    "rf_tuned = RandomForestClassifier(max_depth= 20, max_features= 'sqrt', min_samples_split= 5, n_estimators= 200, random_state=42)\n",
    "\n",
    "rf_tuned.fit(X_train, y_train) \n",
    "yhat_rf = rf_tuned.predict(X_test) \n",
    "\n",
    "print(\"accuracy:\", accuracy_score(y_test, yhat_rf)) \n",
    "print(\"confusion matrix:\\n\", confusion_matrix(y_test, yhat_rf))"
   ]
  },
  {
   "cell_type": "code",
   "execution_count": 288,
   "id": "d788c95f-97af-402e-82e6-b16c5e1e711d",
   "metadata": {},
   "outputs": [
    {
     "name": "stdout",
     "output_type": "stream",
     "text": [
      "accuracy: 0.9649122807017544\n",
      "confusion matrix:\n",
      " [[70  1]\n",
      " [ 3 40]]\n"
     ]
    }
   ],
   "source": [
    "gb_tuned = GradientBoostingClassifier(learning_rate= 0.05,\n",
    "                                max_depth= 5,\n",
    "                                max_features= 'sqrt',\n",
    "                                min_samples_split= 6,\n",
    "                                n_estimators= 400,\n",
    "                                subsample= 0.6,\n",
    "                               random_state=42)\n",
    "\n",
    "gb_tuned.fit(X_train, y_train) \n",
    "yhat_gb = gb_tuned.predict(X_test) \n",
    "\n",
    "print(\"accuracy:\", accuracy_score(y_test, yhat_gb)) \n",
    "print(\"confusion matrix:\\n\", confusion_matrix(y_test, yhat_gb))"
   ]
  },
  {
   "cell_type": "code",
   "execution_count": 290,
   "id": "f01d5da9-f962-499d-8704-9a67bb6df914",
   "metadata": {},
   "outputs": [],
   "source": [
    "model = logistic_tuned"
   ]
  }
 ],
 "metadata": {
  "kernelspec": {
   "display_name": "Python [conda env:base] *",
   "language": "python",
   "name": "conda-base-py"
  },
  "language_info": {
   "codemirror_mode": {
    "name": "ipython",
    "version": 3
   },
   "file_extension": ".py",
   "mimetype": "text/x-python",
   "name": "python",
   "nbconvert_exporter": "python",
   "pygments_lexer": "ipython3",
   "version": "3.12.7"
  }
 },
 "nbformat": 4,
 "nbformat_minor": 5
}
